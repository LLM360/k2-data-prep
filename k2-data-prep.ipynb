{
 "cells": [
  {
   "cell_type": "markdown",
   "metadata": {},
   "source": [
    "# K2 Data Prep\n",
    "\n",
    "## Set up a conda environment\n",
    "\n",
    "```shell\n",
    "conda create -n k2-data-prep python=3.10\n",
    "conda activate k2-data-prep\n",
    "pip install fire datasets tqdm\n",
    "```"
   ]
  },
  {
   "cell_type": "markdown",
   "metadata": {},
   "source": [
    "## Download necessary datasets\n",
    "- falcon_refinedweb-json: https://huggingface.co/datasets/tiiuae/falcon-refinedweb\n",
    "- s2orc: https://github.com/allenai/s2orc?tab=readme-ov-file#download-instructions\n",
    "- pile: https://the-eye.eu/public/AI/pile/\n",
    "- redpajama: https://huggingface.co/datasets/togethercomputer/RedPajama-Data-1T\n",
    "- star coder: https://huggingface.co/datasets/bigcode/starcoderdata\n",
    "\n",
    "*note: The Pile is no longer hosted or distributed by The-Eye or afils. It is however still shared among the AI/ML community presumably for its historical significance. Here's one of the solutions the community provides: https://huggingface.co/datasets/monology/pile-uncopyrighted\n",
    "\n",
    "## Generate pile data split\n",
    "```shell\n",
    "python gen_data_split.py\n",
    "```\n",
    "\n",
    "## Dedup Pile data split\n",
    "```shell\n",
    "python dedup.py\n",
    "```\n",
    "\n",
    "## Prepare Raw Data Chunks\n",
    "```shell\n",
    "python prepare_jsonl_chunks.py\n",
    "python prepare_pile_of_law_chunks.py\n",
    "python prepare_redpajama_chunks.py\n",
    "python prepare_starcoder_chunks.py\n",
    "```\n",
    "\n",
    "## Tokenize\n",
    "```shell\n",
    "python tokenize_datasets.py\n",
    "```\n",
    "\n",
    "## Create FIM Data for StarCoder\n",
    "```shell\n",
    "python starcoder_fim_main.py --spm_rate 0.\n",
    "python starcoder_fim_main.py --spm_rate 1.\n",
    "```\n",
    "\n",
    "## Gather into 360 chunks\n",
    "```shell\n",
    "python gather.py\n",
    "```\n",
    "\n",
    "## Shuffle\n",
    "```shell\n",
    "python shuffle.py\n",
    "```\n",
    "\n",
    "## Print Data Mix\n",
    "```shell\n",
    "python analyze.py\n",
    "```"
   ]
  },
  {
   "cell_type": "code",
   "execution_count": 3,
   "metadata": {},
   "outputs": [
    {
     "name": "stderr",
     "output_type": "stream",
     "text": [
      "4it [00:00, 30.33it/s]"
     ]
    },
    {
     "name": "stderr",
     "output_type": "stream",
     "text": [
      "1920926it [04:28, 7159.71it/s]\n"
     ]
    },
    {
     "name": "stdout",
     "output_type": "stream",
     "text": [
      "1920926 samples.\n",
      "dm-math\t19514\t0.010158642238170548\n",
      "pile-of-law\t113377\t0.059022054988063045\n",
      "pubmed-abstracts\t21738\t0.011316417186294527\n",
      "pubmed-central\t37637\t0.019593154551502765\n",
      "redpajama.arxiv\t40985\t0.021336063960818896\n",
      "redpajama.book\t118312\t0.06159112844534355\n",
      "redpajama.stackexchange\t89629\t0.046659267457465826\n",
      "redpajama.wikipedia\t196791\t0.10244590369436407\n",
      "refinedweb\t904359\t0.4707932528374336\n",
      "s2orc\t158929\t0.08273561813417071\n",
      "starcoder.FIM\t49345\t0.025688131661500756\n",
      "starcoder.SPM\t49497\t0.025767260165149516\n",
      "starcoder\t98819\t0.051443418434650785\n",
      "uspto\t21994\t0.011449686245071387\n"
     ]
    }
   ],
   "source": [
    "import json\n",
    "import tqdm\n",
    "\n",
    "\n",
    "OUTPUT_DIR = '/lustre/scratch/shared-folders/llm_project/bowen.tan/final_data_chunks'\n",
    "N_CHUNKS = 360\n",
    "\n",
    "\n",
    "def main():\n",
    "    counter = {}\n",
    "    for line in tqdm.tqdm(open(f'{OUTPUT_DIR}/chunk_0.jsonl')):\n",
    "        example = json.loads(line)\n",
    "        subset_name = example['subset_name']\n",
    "\n",
    "        if subset_name.startswith('starcoder.'):\n",
    "            subset_name = 'starcoder'\n",
    "            if 'spm0.0' in example['src_filename']:\n",
    "                subset_name = subset_name + '.FIM'\n",
    "            elif 'spm1.0' in example['src_filename']:\n",
    "                subset_name = subset_name + '.SPM'\n",
    "\n",
    "        counter[subset_name] = counter.get(subset_name, 0) + 1\n",
    "\n",
    "    n_total = sum(list(counter.values()))\n",
    "    print(f'{n_total} samples.')\n",
    "    for key, value in counter.items():\n",
    "        print(f'{key}\\t{value}\\t{value / n_total}')\n",
    "\n",
    "\n",
    "if __name__ == '__main__':\n",
    "    main()"
   ]
  }
 ],
 "metadata": {
  "kernelspec": {
   "display_name": "k2-data-prep",
   "language": "python",
   "name": "python3"
  },
  "language_info": {
   "codemirror_mode": {
    "name": "ipython",
    "version": 3
   },
   "file_extension": ".py",
   "mimetype": "text/x-python",
   "name": "python",
   "nbconvert_exporter": "python",
   "pygments_lexer": "ipython3",
   "version": "3.10.14"
  }
 },
 "nbformat": 4,
 "nbformat_minor": 2
}
